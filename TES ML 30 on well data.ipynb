{
 "cells": [
  {
   "cell_type": "code",
   "execution_count": 10,
   "metadata": {},
   "outputs": [],
   "source": [
    "import numpy as np\n",
    "import matplotlib.pyplot as plt\n",
    "import pandas as pd\n",
    "from sklearn.preprocessing import StandardScaler\n",
    "from lazypredict.Supervised import LazyClassifier\n",
    "from sklearn.model_selection import train_test_split"
   ]
  },
  {
   "cell_type": "code",
   "execution_count": 11,
   "metadata": {},
   "outputs": [],
   "source": [
    "data = pd.read_csv('D:\\Programing\\PycharmProjects\\geoscientist\\well\\welltaukfacies_lfc.csv')"
   ]
  },
  {
   "cell_type": "code",
   "execution_count": 12,
   "metadata": {},
   "outputs": [
    {
     "name": "stdout",
     "output_type": "stream",
     "text": [
      "      Depth  RhoB  Vshale  NPHI     DT  LFC\n",
      "0   6400.00  2.47    0.76  0.31  98.42 4.00\n",
      "1   6400.50  2.47    0.76  0.30  98.10 4.00\n",
      "2   6401.00  2.46    0.78  0.30  98.62 4.00\n",
      "3   6401.50  2.46    0.84  0.31  99.60 4.00\n",
      "4   6402.00  2.45    0.92  0.31 100.29 4.00\n",
      "..      ...   ...     ...   ...    ...  ...\n",
      "796 6798.00  2.19    0.33  0.16  89.58 2.00\n",
      "797 6798.50  2.18    0.29  0.16  89.53 2.00\n",
      "798 6799.00  2.14    0.32  0.16  89.80 2.00\n",
      "799 6799.50  2.11    0.44  0.16  90.19 2.00\n",
      "800 6800.00  2.13    0.47  0.16  90.64 2.00\n",
      "\n",
      "[801 rows x 6 columns]\n"
     ]
    }
   ],
   "source": [
    "data = data[['Depth', 'RhoB', 'Vshale','NPHI','DT','LFC' ]]\n",
    "data = data.dropna(how='any')\n",
    "print(data)"
   ]
  },
  {
   "cell_type": "code",
   "execution_count": 13,
   "metadata": {},
   "outputs": [],
   "source": [
    "X_train = data.iloc[:,1:4].values\n",
    "sc = StandardScaler()\n",
    "X_test =data.iloc[:,1:4].values\n",
    "X_train = sc.fit_transform(X_train)\n",
    "Y_train = data.iloc[:,-1].values"
   ]
  },
  {
   "cell_type": "code",
   "execution_count": 14,
   "metadata": {},
   "outputs": [
    {
     "name": "stderr",
     "output_type": "stream",
     "text": [
      "100%|██████████| 29/29 [00:00<00:00, 41.09it/s]\n"
     ]
    }
   ],
   "source": [
    "x=data.iloc[:,1:4].values\n",
    "y= data.iloc[:,-1].values\n",
    "x_train, x_test,y_train, y_test= train_test_split(x,y,test_size=.2,random_state=0)\n",
    "clf= LazyClassifier(verbose=0,ignore_warnings=True,custom_metric=None)\n",
    "models,predictions=clf.fit(x_train,x_test,y_train,y_test)\n",
    "\n"
   ]
  },
  {
   "cell_type": "code",
   "execution_count": 17,
   "metadata": {},
   "outputs": [
    {
     "name": "stdout",
     "output_type": "stream",
     "text": [
      "                               Accuracy  Balanced Accuracy ROC AUC  F1 Score  \\\n",
      "Model                                                                          \n",
      "NearestCentroid                    0.91               0.90    None      0.92   \n",
      "Perceptron                         0.96               0.88    None      0.96   \n",
      "PassiveAggressiveClassifier        0.94               0.86    None      0.95   \n",
      "DecisionTreeClassifier             0.96               0.85    None      0.96   \n",
      "AdaBoostClassifier                 0.95               0.82    None      0.95   \n",
      "BaggingClassifier                  0.95               0.82    None      0.95   \n",
      "LinearDiscriminantAnalysis         0.94               0.82    None      0.94   \n",
      "LGBMClassifier                     0.95               0.80    None      0.95   \n",
      "KNeighborsClassifier               0.94               0.80    None      0.94   \n",
      "RandomForestClassifier             0.94               0.79    None      0.94   \n",
      "QuadraticDiscriminantAnalysis      0.96               0.79    None      0.95   \n",
      "LabelPropagation                   0.94               0.79    None      0.93   \n",
      "LabelSpreading                     0.94               0.79    None      0.93   \n",
      "GaussianNB                         0.95               0.78    None      0.94   \n",
      "SVC                                0.95               0.78    None      0.94   \n",
      "ExtraTreesClassifier               0.94               0.77    None      0.94   \n",
      "LogisticRegression                 0.94               0.77    None      0.94   \n",
      "LinearSVC                          0.94               0.77    None      0.94   \n",
      "CalibratedClassifierCV             0.94               0.76    None      0.93   \n",
      "ExtraTreeClassifier                0.91               0.74    None      0.91   \n",
      "BernoulliNB                        0.93               0.74    None      0.92   \n",
      "SGDClassifier                      0.93               0.67    None      0.90   \n",
      "RidgeClassifier                    0.93               0.66    None      0.89   \n",
      "RidgeClassifierCV                  0.93               0.66    None      0.89   \n",
      "DummyClassifier                    0.68               0.33    None      0.55   \n",
      "\n",
      "                               Time Taken  \n",
      "Model                                      \n",
      "NearestCentroid                      0.01  \n",
      "Perceptron                           0.01  \n",
      "PassiveAggressiveClassifier          0.01  \n",
      "DecisionTreeClassifier               0.01  \n",
      "AdaBoostClassifier                   0.08  \n",
      "BaggingClassifier                    0.02  \n",
      "LinearDiscriminantAnalysis           0.01  \n",
      "LGBMClassifier                       0.13  \n",
      "KNeighborsClassifier                 0.01  \n",
      "RandomForestClassifier               0.12  \n",
      "QuadraticDiscriminantAnalysis        0.01  \n",
      "LabelPropagation                     0.02  \n",
      "LabelSpreading                       0.02  \n",
      "GaussianNB                           0.01  \n",
      "SVC                                  0.01  \n",
      "ExtraTreesClassifier                 0.10  \n",
      "LogisticRegression                   0.01  \n",
      "LinearSVC                            0.01  \n",
      "CalibratedClassifierCV               0.06  \n",
      "ExtraTreeClassifier                  0.01  \n",
      "BernoulliNB                          0.01  \n",
      "SGDClassifier                        0.01  \n",
      "RidgeClassifier                      0.01  \n",
      "RidgeClassifierCV                    0.01  \n",
      "DummyClassifier                      0.01  \n",
      "                               Accuracy  Balanced Accuracy ROC AUC  F1 Score  \\\n",
      "Model                                                                          \n",
      "NearestCentroid                    0.91               0.90    None      0.92   \n",
      "Perceptron                         0.96               0.88    None      0.96   \n",
      "PassiveAggressiveClassifier        0.94               0.86    None      0.95   \n",
      "DecisionTreeClassifier             0.96               0.85    None      0.96   \n",
      "AdaBoostClassifier                 0.95               0.82    None      0.95   \n",
      "BaggingClassifier                  0.95               0.82    None      0.95   \n",
      "LinearDiscriminantAnalysis         0.94               0.82    None      0.94   \n",
      "LGBMClassifier                     0.95               0.80    None      0.95   \n",
      "KNeighborsClassifier               0.94               0.80    None      0.94   \n",
      "RandomForestClassifier             0.94               0.79    None      0.94   \n",
      "QuadraticDiscriminantAnalysis      0.96               0.79    None      0.95   \n",
      "LabelPropagation                   0.94               0.79    None      0.93   \n",
      "LabelSpreading                     0.94               0.79    None      0.93   \n",
      "GaussianNB                         0.95               0.78    None      0.94   \n",
      "SVC                                0.95               0.78    None      0.94   \n",
      "ExtraTreesClassifier               0.94               0.77    None      0.94   \n",
      "LogisticRegression                 0.94               0.77    None      0.94   \n",
      "LinearSVC                          0.94               0.77    None      0.94   \n",
      "CalibratedClassifierCV             0.94               0.76    None      0.93   \n",
      "ExtraTreeClassifier                0.91               0.74    None      0.91   \n",
      "BernoulliNB                        0.93               0.74    None      0.92   \n",
      "SGDClassifier                      0.93               0.67    None      0.90   \n",
      "RidgeClassifier                    0.93               0.66    None      0.89   \n",
      "RidgeClassifierCV                  0.93               0.66    None      0.89   \n",
      "DummyClassifier                    0.68               0.33    None      0.55   \n",
      "\n",
      "                               Time Taken  \n",
      "Model                                      \n",
      "NearestCentroid                      0.01  \n",
      "Perceptron                           0.01  \n",
      "PassiveAggressiveClassifier          0.01  \n",
      "DecisionTreeClassifier               0.01  \n",
      "AdaBoostClassifier                   0.08  \n",
      "BaggingClassifier                    0.02  \n",
      "LinearDiscriminantAnalysis           0.01  \n",
      "LGBMClassifier                       0.13  \n",
      "KNeighborsClassifier                 0.01  \n",
      "RandomForestClassifier               0.12  \n",
      "QuadraticDiscriminantAnalysis        0.01  \n",
      "LabelPropagation                     0.02  \n",
      "LabelSpreading                       0.02  \n",
      "GaussianNB                           0.01  \n",
      "SVC                                  0.01  \n",
      "ExtraTreesClassifier                 0.10  \n",
      "LogisticRegression                   0.01  \n",
      "LinearSVC                            0.01  \n",
      "CalibratedClassifierCV               0.06  \n",
      "ExtraTreeClassifier                  0.01  \n",
      "BernoulliNB                          0.01  \n",
      "SGDClassifier                        0.01  \n",
      "RidgeClassifier                      0.01  \n",
      "RidgeClassifierCV                    0.01  \n",
      "DummyClassifier                      0.01  \n"
     ]
    }
   ],
   "source": [
    "print(models)\n",
    "print(predictions)"
   ]
  }
 ],
 "metadata": {
  "kernelspec": {
   "display_name": "Python 3",
   "language": "python",
   "name": "python3"
  },
  "language_info": {
   "codemirror_mode": {
    "name": "ipython",
    "version": 3
   },
   "file_extension": ".py",
   "mimetype": "text/x-python",
   "name": "python",
   "nbconvert_exporter": "python",
   "pygments_lexer": "ipython3",
   "version": "3.10.7 (tags/v3.10.7:6cc6b13, Sep  5 2022, 14:08:36) [MSC v.1933 64 bit (AMD64)]"
  },
  "orig_nbformat": 4,
  "vscode": {
   "interpreter": {
    "hash": "47d83a7f96457625bd64e3e2e3a9c1228287100e1abc3b4e100cf145f1b06f07"
   }
  }
 },
 "nbformat": 4,
 "nbformat_minor": 2
}
